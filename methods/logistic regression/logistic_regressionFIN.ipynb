{
 "cells": [
  {
   "cell_type": "markdown",
   "metadata": {
    "cell_id": "33aeebfd-ce9d-43b5-b6d1-e81d1ba93e21",
    "deepnote_cell_type": "markdown",
    "tags": []
   },
   "source": [
    "## Mathematics and Methods in Machine Learning and Neural Networks - Logistic regression\n",
    "Metropolia University of Applied Sciences  \n",
    "Daniel Ridzon  \n",
    "15/02/2022"
   ]
  },
  {
   "cell_type": "markdown",
   "metadata": {
    "cell_id": "bc3d8842-5435-4a01-bc6f-a0fa41e69606",
    "deepnote_cell_type": "markdown",
    "tags": []
   },
   "source": [
    "### Libraries import"
   ]
  },
  {
   "cell_type": "code",
   "execution_count": 1,
   "metadata": {
    "cell_id": "e6905c99-fa3f-4528-9414-58f414bd5a17",
    "deepnote_cell_type": "code",
    "deepnote_to_be_reexecuted": false,
    "execution_millis": 3874,
    "execution_start": 1644935484737,
    "source_hash": "fc97ac25",
    "tags": []
   },
   "outputs": [],
   "source": [
    "import numpy as np\n",
    "import pandas as pd\n",
    "import seaborn as sns\n",
    "\n",
    "import matplotlib.pyplot as plt\n",
    "\n",
    "from joblib import dump\n",
    "from scipy.io import arff\n",
    "from sklearn.linear_model import LogisticRegression\n",
    "from sklearn import metrics\n",
    "from sklearn.metrics import confusion_matrix"
   ]
  },
  {
   "cell_type": "markdown",
   "metadata": {
    "cell_id": "f28ce1d8-071b-4918-8f0e-b5b95ea06a42",
    "deepnote_cell_type": "markdown",
    "tags": []
   },
   "source": [
    "### Load the data"
   ]
  },
  {
   "cell_type": "code",
   "execution_count": 2,
   "metadata": {
    "cell_id": "3f550c2e-f9f1-4bde-8890-ddcae0b478d1",
    "deepnote_cell_type": "code",
    "deepnote_table_loading": false,
    "deepnote_table_state": {
     "filters": [],
     "pageIndex": 0,
     "pageSize": 10,
     "sortBy": []
    },
    "deepnote_to_be_reexecuted": false,
    "execution_millis": 15,
    "execution_start": 1644935488646,
    "source_hash": "1fddb2f5",
    "tags": []
   },
   "outputs": [],
   "source": [
    "data = arff.loadarff(\"data/column_3C_weka.arff\")\n",
    "df = pd.DataFrame(data[0])"
   ]
  },
  {
   "cell_type": "markdown",
   "metadata": {
    "cell_id": "8646bbdb-a618-41a8-96f3-89e4f12cb12e",
    "deepnote_cell_type": "markdown",
    "tags": []
   },
   "source": [
    "### Basic metrics of the dataset."
   ]
  },
  {
   "cell_type": "code",
   "execution_count": 3,
   "metadata": {
    "cell_id": "98546ee7-9a27-46fd-a89d-fefa6a333747",
    "deepnote_cell_type": "code",
    "deepnote_to_be_reexecuted": false,
    "execution_millis": 75,
    "execution_start": 1644935488688,
    "source_hash": "f804c160",
    "tags": []
   },
   "outputs": [
    {
     "data": {
      "text/html": [
       "<div>\n",
       "<style scoped>\n",
       "    .dataframe tbody tr th:only-of-type {\n",
       "        vertical-align: middle;\n",
       "    }\n",
       "\n",
       "    .dataframe tbody tr th {\n",
       "        vertical-align: top;\n",
       "    }\n",
       "\n",
       "    .dataframe thead th {\n",
       "        text-align: right;\n",
       "    }\n",
       "</style>\n",
       "<table border=\"1\" class=\"dataframe\">\n",
       "  <thead>\n",
       "    <tr style=\"text-align: right;\">\n",
       "      <th></th>\n",
       "      <th>pelvic_incidence</th>\n",
       "      <th>pelvic_tilt</th>\n",
       "      <th>lumbar_lordosis_angle</th>\n",
       "      <th>sacral_slope</th>\n",
       "      <th>pelvic_radius</th>\n",
       "      <th>degree_spondylolisthesis</th>\n",
       "      <th>class</th>\n",
       "    </tr>\n",
       "  </thead>\n",
       "  <tbody>\n",
       "    <tr>\n",
       "      <th>0</th>\n",
       "      <td>63.027817</td>\n",
       "      <td>22.552586</td>\n",
       "      <td>39.609117</td>\n",
       "      <td>40.475232</td>\n",
       "      <td>98.672917</td>\n",
       "      <td>-0.254400</td>\n",
       "      <td>b'Hernia'</td>\n",
       "    </tr>\n",
       "    <tr>\n",
       "      <th>1</th>\n",
       "      <td>39.056951</td>\n",
       "      <td>10.060991</td>\n",
       "      <td>25.015378</td>\n",
       "      <td>28.995960</td>\n",
       "      <td>114.405425</td>\n",
       "      <td>4.564259</td>\n",
       "      <td>b'Hernia'</td>\n",
       "    </tr>\n",
       "    <tr>\n",
       "      <th>2</th>\n",
       "      <td>68.832021</td>\n",
       "      <td>22.218482</td>\n",
       "      <td>50.092194</td>\n",
       "      <td>46.613539</td>\n",
       "      <td>105.985135</td>\n",
       "      <td>-3.530317</td>\n",
       "      <td>b'Hernia'</td>\n",
       "    </tr>\n",
       "    <tr>\n",
       "      <th>3</th>\n",
       "      <td>69.297008</td>\n",
       "      <td>24.652878</td>\n",
       "      <td>44.311238</td>\n",
       "      <td>44.644130</td>\n",
       "      <td>101.868495</td>\n",
       "      <td>11.211523</td>\n",
       "      <td>b'Hernia'</td>\n",
       "    </tr>\n",
       "    <tr>\n",
       "      <th>4</th>\n",
       "      <td>49.712859</td>\n",
       "      <td>9.652075</td>\n",
       "      <td>28.317406</td>\n",
       "      <td>40.060784</td>\n",
       "      <td>108.168725</td>\n",
       "      <td>7.918501</td>\n",
       "      <td>b'Hernia'</td>\n",
       "    </tr>\n",
       "    <tr>\n",
       "      <th>...</th>\n",
       "      <td>...</td>\n",
       "      <td>...</td>\n",
       "      <td>...</td>\n",
       "      <td>...</td>\n",
       "      <td>...</td>\n",
       "      <td>...</td>\n",
       "      <td>...</td>\n",
       "    </tr>\n",
       "    <tr>\n",
       "      <th>305</th>\n",
       "      <td>47.903565</td>\n",
       "      <td>13.616688</td>\n",
       "      <td>36.000000</td>\n",
       "      <td>34.286877</td>\n",
       "      <td>117.449062</td>\n",
       "      <td>-4.245395</td>\n",
       "      <td>b'Normal'</td>\n",
       "    </tr>\n",
       "    <tr>\n",
       "      <th>306</th>\n",
       "      <td>53.936748</td>\n",
       "      <td>20.721496</td>\n",
       "      <td>29.220534</td>\n",
       "      <td>33.215251</td>\n",
       "      <td>114.365845</td>\n",
       "      <td>-0.421010</td>\n",
       "      <td>b'Normal'</td>\n",
       "    </tr>\n",
       "    <tr>\n",
       "      <th>307</th>\n",
       "      <td>61.446597</td>\n",
       "      <td>22.694968</td>\n",
       "      <td>46.170347</td>\n",
       "      <td>38.751628</td>\n",
       "      <td>125.670725</td>\n",
       "      <td>-2.707880</td>\n",
       "      <td>b'Normal'</td>\n",
       "    </tr>\n",
       "    <tr>\n",
       "      <th>308</th>\n",
       "      <td>45.252792</td>\n",
       "      <td>8.693157</td>\n",
       "      <td>41.583126</td>\n",
       "      <td>36.559635</td>\n",
       "      <td>118.545842</td>\n",
       "      <td>0.214750</td>\n",
       "      <td>b'Normal'</td>\n",
       "    </tr>\n",
       "    <tr>\n",
       "      <th>309</th>\n",
       "      <td>33.841641</td>\n",
       "      <td>5.073991</td>\n",
       "      <td>36.641233</td>\n",
       "      <td>28.767649</td>\n",
       "      <td>123.945244</td>\n",
       "      <td>-0.199249</td>\n",
       "      <td>b'Normal'</td>\n",
       "    </tr>\n",
       "  </tbody>\n",
       "</table>\n",
       "<p>310 rows × 7 columns</p>\n",
       "</div>"
      ],
      "text/plain": [
       "     pelvic_incidence  pelvic_tilt  lumbar_lordosis_angle  sacral_slope  \\\n",
       "0           63.027817    22.552586              39.609117     40.475232   \n",
       "1           39.056951    10.060991              25.015378     28.995960   \n",
       "2           68.832021    22.218482              50.092194     46.613539   \n",
       "3           69.297008    24.652878              44.311238     44.644130   \n",
       "4           49.712859     9.652075              28.317406     40.060784   \n",
       "..                ...          ...                    ...           ...   \n",
       "305         47.903565    13.616688              36.000000     34.286877   \n",
       "306         53.936748    20.721496              29.220534     33.215251   \n",
       "307         61.446597    22.694968              46.170347     38.751628   \n",
       "308         45.252792     8.693157              41.583126     36.559635   \n",
       "309         33.841641     5.073991              36.641233     28.767649   \n",
       "\n",
       "     pelvic_radius  degree_spondylolisthesis      class  \n",
       "0        98.672917                 -0.254400  b'Hernia'  \n",
       "1       114.405425                  4.564259  b'Hernia'  \n",
       "2       105.985135                 -3.530317  b'Hernia'  \n",
       "3       101.868495                 11.211523  b'Hernia'  \n",
       "4       108.168725                  7.918501  b'Hernia'  \n",
       "..             ...                       ...        ...  \n",
       "305     117.449062                 -4.245395  b'Normal'  \n",
       "306     114.365845                 -0.421010  b'Normal'  \n",
       "307     125.670725                 -2.707880  b'Normal'  \n",
       "308     118.545842                  0.214750  b'Normal'  \n",
       "309     123.945244                 -0.199249  b'Normal'  \n",
       "\n",
       "[310 rows x 7 columns]"
      ]
     },
     "execution_count": 3,
     "metadata": {},
     "output_type": "execute_result"
    }
   ],
   "source": [
    "df"
   ]
  },
  {
   "cell_type": "code",
   "execution_count": 4,
   "metadata": {
    "cell_id": "06571d15-7584-49ba-96a5-25b47a16e1b5",
    "deepnote_cell_type": "code",
    "deepnote_to_be_reexecuted": false,
    "execution_millis": 127,
    "execution_start": 1644935488771,
    "source_hash": "89e09888",
    "tags": []
   },
   "outputs": [
    {
     "data": {
      "text/html": [
       "<div>\n",
       "<style scoped>\n",
       "    .dataframe tbody tr th:only-of-type {\n",
       "        vertical-align: middle;\n",
       "    }\n",
       "\n",
       "    .dataframe tbody tr th {\n",
       "        vertical-align: top;\n",
       "    }\n",
       "\n",
       "    .dataframe thead th {\n",
       "        text-align: right;\n",
       "    }\n",
       "</style>\n",
       "<table border=\"1\" class=\"dataframe\">\n",
       "  <thead>\n",
       "    <tr style=\"text-align: right;\">\n",
       "      <th></th>\n",
       "      <th>count</th>\n",
       "      <th>mean</th>\n",
       "      <th>std</th>\n",
       "      <th>min</th>\n",
       "      <th>25%</th>\n",
       "      <th>50%</th>\n",
       "      <th>75%</th>\n",
       "      <th>max</th>\n",
       "    </tr>\n",
       "  </thead>\n",
       "  <tbody>\n",
       "    <tr>\n",
       "      <th>pelvic_incidence</th>\n",
       "      <td>310.0</td>\n",
       "      <td>60.496653</td>\n",
       "      <td>17.236520</td>\n",
       "      <td>26.147921</td>\n",
       "      <td>46.430294</td>\n",
       "      <td>58.691038</td>\n",
       "      <td>72.877696</td>\n",
       "      <td>129.834041</td>\n",
       "    </tr>\n",
       "    <tr>\n",
       "      <th>pelvic_tilt</th>\n",
       "      <td>310.0</td>\n",
       "      <td>17.542822</td>\n",
       "      <td>10.008330</td>\n",
       "      <td>-6.554948</td>\n",
       "      <td>10.667069</td>\n",
       "      <td>16.357689</td>\n",
       "      <td>22.120395</td>\n",
       "      <td>49.431864</td>\n",
       "    </tr>\n",
       "    <tr>\n",
       "      <th>lumbar_lordosis_angle</th>\n",
       "      <td>310.0</td>\n",
       "      <td>51.930930</td>\n",
       "      <td>18.554064</td>\n",
       "      <td>14.000000</td>\n",
       "      <td>37.000000</td>\n",
       "      <td>49.562398</td>\n",
       "      <td>63.000000</td>\n",
       "      <td>125.742385</td>\n",
       "    </tr>\n",
       "    <tr>\n",
       "      <th>sacral_slope</th>\n",
       "      <td>310.0</td>\n",
       "      <td>42.953831</td>\n",
       "      <td>13.423102</td>\n",
       "      <td>13.366931</td>\n",
       "      <td>33.347122</td>\n",
       "      <td>42.404912</td>\n",
       "      <td>52.695888</td>\n",
       "      <td>121.429566</td>\n",
       "    </tr>\n",
       "    <tr>\n",
       "      <th>pelvic_radius</th>\n",
       "      <td>310.0</td>\n",
       "      <td>117.920655</td>\n",
       "      <td>13.317377</td>\n",
       "      <td>70.082575</td>\n",
       "      <td>110.709196</td>\n",
       "      <td>118.268178</td>\n",
       "      <td>125.467674</td>\n",
       "      <td>163.071041</td>\n",
       "    </tr>\n",
       "    <tr>\n",
       "      <th>degree_spondylolisthesis</th>\n",
       "      <td>310.0</td>\n",
       "      <td>26.296694</td>\n",
       "      <td>37.559027</td>\n",
       "      <td>-11.058179</td>\n",
       "      <td>1.603727</td>\n",
       "      <td>11.767934</td>\n",
       "      <td>41.287352</td>\n",
       "      <td>418.543082</td>\n",
       "    </tr>\n",
       "  </tbody>\n",
       "</table>\n",
       "</div>"
      ],
      "text/plain": [
       "                          count        mean        std        min         25%  \\\n",
       "pelvic_incidence          310.0   60.496653  17.236520  26.147921   46.430294   \n",
       "pelvic_tilt               310.0   17.542822  10.008330  -6.554948   10.667069   \n",
       "lumbar_lordosis_angle     310.0   51.930930  18.554064  14.000000   37.000000   \n",
       "sacral_slope              310.0   42.953831  13.423102  13.366931   33.347122   \n",
       "pelvic_radius             310.0  117.920655  13.317377  70.082575  110.709196   \n",
       "degree_spondylolisthesis  310.0   26.296694  37.559027 -11.058179    1.603727   \n",
       "\n",
       "                                 50%         75%         max  \n",
       "pelvic_incidence           58.691038   72.877696  129.834041  \n",
       "pelvic_tilt                16.357689   22.120395   49.431864  \n",
       "lumbar_lordosis_angle      49.562398   63.000000  125.742385  \n",
       "sacral_slope               42.404912   52.695888  121.429566  \n",
       "pelvic_radius             118.268178  125.467674  163.071041  \n",
       "degree_spondylolisthesis   11.767934   41.287352  418.543082  "
      ]
     },
     "execution_count": 4,
     "metadata": {},
     "output_type": "execute_result"
    }
   ],
   "source": [
    "df.describe().T"
   ]
  },
  {
   "cell_type": "code",
   "execution_count": 5,
   "metadata": {
    "cell_id": "20b8691d-1fb6-42e6-9299-121a246950b4",
    "deepnote_cell_type": "code",
    "deepnote_output_heights": [
     1
    ],
    "deepnote_to_be_reexecuted": false,
    "execution_millis": 18,
    "execution_start": 1644935488904,
    "source_hash": "5e3ad056",
    "tags": []
   },
   "outputs": [
    {
     "data": {
      "text/plain": [
       "array([b'Hernia', b'Spondylolisthesis', b'Normal'], dtype=object)"
      ]
     },
     "execution_count": 5,
     "metadata": {},
     "output_type": "execute_result"
    }
   ],
   "source": [
    "df[\"class\"].unique()"
   ]
  },
  {
   "cell_type": "markdown",
   "metadata": {
    "cell_id": "e77d6f31-cde8-4441-b2d2-401fdbe33f46",
    "deepnote_cell_type": "markdown",
    "tags": []
   },
   "source": [
    "#### Check feture types"
   ]
  },
  {
   "cell_type": "code",
   "execution_count": 6,
   "metadata": {
    "cell_id": "8efe11b8-67da-41f8-b7f8-8768f4b138d7",
    "deepnote_cell_type": "code",
    "deepnote_output_heights": [
     1
    ],
    "deepnote_to_be_reexecuted": false,
    "execution_millis": 32,
    "execution_start": 1644935488933,
    "source_hash": "52430027",
    "tags": []
   },
   "outputs": [
    {
     "data": {
      "text/plain": [
       "pelvic_incidence            float64\n",
       "pelvic_tilt                 float64\n",
       "lumbar_lordosis_angle       float64\n",
       "sacral_slope                float64\n",
       "pelvic_radius               float64\n",
       "degree_spondylolisthesis    float64\n",
       "class                        object\n",
       "dtype: object"
      ]
     },
     "execution_count": 6,
     "metadata": {},
     "output_type": "execute_result"
    }
   ],
   "source": [
    "df.dtypes"
   ]
  },
  {
   "cell_type": "markdown",
   "metadata": {
    "cell_id": "c327aea7-8e08-433c-81af-a5354e093c54",
    "deepnote_cell_type": "markdown",
    "tags": []
   },
   "source": [
    "#### Class distribution"
   ]
  },
  {
   "cell_type": "code",
   "execution_count": 7,
   "metadata": {
    "cell_id": "a46009ab-87c7-476f-814b-f7cd1e4bc21a",
    "deepnote_cell_type": "code",
    "deepnote_output_heights": [
     21,
     1,
     339
    ],
    "deepnote_to_be_reexecuted": false,
    "execution_millis": 407,
    "execution_start": 1644935488968,
    "source_hash": "7b8ddde2",
    "tags": []
   },
   "outputs": [
    {
     "name": "stdout",
     "output_type": "stream",
     "text": [
      "Class distribution: Normal 32.26%, Spondylolisthesis 48.39%, Hernia 19.35%\n"
     ]
    },
    {
     "data": {
      "text/plain": [
       "<AxesSubplot:>"
      ]
     },
     "execution_count": 7,
     "metadata": {},
     "output_type": "execute_result"
    },
    {
     "data": {
      "image/png": "[encoded data removed]",
      "text/plain": [
       "<Figure size 432x288 with 1 Axes>"
      ]
     },
     "metadata": {
      "needs_background": "light"
     },
     "output_type": "display_data"
    }
   ],
   "source": [
    "# Count occurances of each class\n",
    "normal_cnt = df[\"class\"].value_counts()[b\"Normal\"]\n",
    "spondylolisthesis_cnt = df[\"class\"].value_counts()[b\"Spondylolisthesis\"]\n",
    "hernia_cnt = df[\"class\"].value_counts()[b\"Hernia\"]\n",
    "total_cnt = normal_cnt + spondylolisthesis_cnt + hernia_cnt\n",
    "\n",
    "# Measure percentage of each class for later balancing.\n",
    "normal_p = normal_cnt / total_cnt\n",
    "spondylolisthesis_p = spondylolisthesis_cnt / total_cnt\n",
    "hernia_p = hernia_cnt / total_cnt\n",
    "\n",
    "print(f\"Class distribution: Normal {(normal_p * 100):.2f}%, Spondylolisthesis {(spondylolisthesis_p * 100):.2f}%, Hernia {(hernia_p * 100):.2f}%\")\n",
    "\n",
    "# Plot the clas distribution\n",
    "df[\"class\"].value_counts().plot(kind=\"bar\")"
   ]
  },
  {
   "cell_type": "markdown",
   "metadata": {
    "cell_id": "1a77260a-dcf4-4888-9da7-7e81db4a9998",
    "deepnote_cell_type": "markdown",
    "tags": []
   },
   "source": [
    "##### Observations\n",
    "- Classes are not equal with distribution - We will need to account for that in fitting phase."
   ]
  },
  {
   "cell_type": "markdown",
   "metadata": {
    "cell_id": "0525306f-6bcd-448a-9a3a-7f733af49c15",
    "deepnote_cell_type": "markdown",
    "tags": []
   },
   "source": [
    "#### Feature correlation"
   ]
  },
  {
   "cell_type": "code",
   "execution_count": 8,
   "metadata": {
    "cell_id": "7165e969-91da-42a7-8920-c6dde9b53f05",
    "deepnote_cell_type": "code",
    "deepnote_output_heights": [
     611
    ],
    "deepnote_to_be_reexecuted": false,
    "execution_millis": 1324,
    "execution_start": 1644935489382,
    "source_hash": "4ce0b337",
    "tags": []
   },
   "outputs": [
    {
     "data": {
      "image/png": "[encoded data removed]",
      "text/plain": [
       "<Figure size 720x720 with 2 Axes>"
      ]
     },
     "metadata": {
      "needs_background": "light"
     },
     "output_type": "display_data"
    }
   ],
   "source": [
    "# Plotting the correlation heatmap\n",
    "plt.figure(figsize=(10,10))\n",
    "dataplot = sns.heatmap(df.corr(), cmap=\"vlag\", annot=True, vmin=-1, vmax=1)\n",
    "  \n",
    "# Displaying the heatmap\n",
    "plt.show()"
   ]
  },
  {
   "cell_type": "markdown",
   "metadata": {
    "cell_id": "cec06486-e433-4811-8405-db29323642e1",
    "deepnote_cell_type": "markdown",
    "tags": []
   },
   "source": [
    "##### Observations\n",
    "- Highest correlation of 81% is between sacral_slope and pelvic_incidence. But it is still not too high for dropping one of the features. (One of the features with correlation between (+-) 0.9 and 1.0 should be eliminated from the dataset to prevent later problems in training)."
   ]
  },
  {
   "cell_type": "markdown",
   "metadata": {
    "cell_id": "06b4abdb-87fc-4d6d-a9b1-5d73d299885b",
    "deepnote_cell_type": "markdown",
    "tags": []
   },
   "source": [
    "#### Mean of features for specific classes"
   ]
  },
  {
   "cell_type": "code",
   "execution_count": 9,
   "metadata": {
    "cell_id": "e9aa43f5-a54b-45a9-b2fd-afd589a82a9e",
    "deepnote_cell_type": "code",
    "deepnote_to_be_reexecuted": false,
    "execution_millis": 96,
    "execution_start": 1644935490712,
    "source_hash": "fc82074",
    "tags": []
   },
   "outputs": [
    {
     "data": {
      "text/html": [
       "<div>\n",
       "<style scoped>\n",
       "    .dataframe tbody tr th:only-of-type {\n",
       "        vertical-align: middle;\n",
       "    }\n",
       "\n",
       "    .dataframe tbody tr th {\n",
       "        vertical-align: top;\n",
       "    }\n",
       "\n",
       "    .dataframe thead th {\n",
       "        text-align: right;\n",
       "    }\n",
       "</style>\n",
       "<table border=\"1\" class=\"dataframe\">\n",
       "  <thead>\n",
       "    <tr style=\"text-align: right;\">\n",
       "      <th></th>\n",
       "      <th>pelvic_incidence</th>\n",
       "      <th>pelvic_tilt</th>\n",
       "      <th>lumbar_lordosis_angle</th>\n",
       "      <th>sacral_slope</th>\n",
       "      <th>pelvic_radius</th>\n",
       "      <th>degree_spondylolisthesis</th>\n",
       "    </tr>\n",
       "    <tr>\n",
       "      <th>class</th>\n",
       "      <th></th>\n",
       "      <th></th>\n",
       "      <th></th>\n",
       "      <th></th>\n",
       "      <th></th>\n",
       "      <th></th>\n",
       "    </tr>\n",
       "  </thead>\n",
       "  <tbody>\n",
       "    <tr>\n",
       "      <th>b'Hernia'</th>\n",
       "      <td>47.638407</td>\n",
       "      <td>17.398795</td>\n",
       "      <td>35.463524</td>\n",
       "      <td>30.239612</td>\n",
       "      <td>116.474968</td>\n",
       "      <td>2.480251</td>\n",
       "    </tr>\n",
       "    <tr>\n",
       "      <th>b'Normal'</th>\n",
       "      <td>51.685244</td>\n",
       "      <td>12.821414</td>\n",
       "      <td>43.542605</td>\n",
       "      <td>38.863830</td>\n",
       "      <td>123.890834</td>\n",
       "      <td>2.186572</td>\n",
       "    </tr>\n",
       "    <tr>\n",
       "      <th>b'Spondylolisthesis'</th>\n",
       "      <td>71.514224</td>\n",
       "      <td>20.748038</td>\n",
       "      <td>64.110108</td>\n",
       "      <td>50.766186</td>\n",
       "      <td>114.518810</td>\n",
       "      <td>51.896687</td>\n",
       "    </tr>\n",
       "  </tbody>\n",
       "</table>\n",
       "</div>"
      ],
      "text/plain": [
       "                      pelvic_incidence  pelvic_tilt  lumbar_lordosis_angle  \\\n",
       "class                                                                        \n",
       "b'Hernia'                    47.638407    17.398795              35.463524   \n",
       "b'Normal'                    51.685244    12.821414              43.542605   \n",
       "b'Spondylolisthesis'         71.514224    20.748038              64.110108   \n",
       "\n",
       "                      sacral_slope  pelvic_radius  degree_spondylolisthesis  \n",
       "class                                                                        \n",
       "b'Hernia'                30.239612     116.474968                  2.480251  \n",
       "b'Normal'                38.863830     123.890834                  2.186572  \n",
       "b'Spondylolisthesis'     50.766186     114.518810                 51.896687  "
      ]
     },
     "execution_count": 9,
     "metadata": {},
     "output_type": "execute_result"
    }
   ],
   "source": [
    "df.groupby(\"class\").mean()"
   ]
  },
  {
   "cell_type": "markdown",
   "metadata": {
    "cell_id": "64457de2-cf45-4914-9311-a1562025e587",
    "deepnote_cell_type": "markdown",
    "tags": []
   },
   "source": [
    "##### Observations\n",
    "- Class Spondylolisthesis has much higher mean value of degree_spondylolisthesis feature"
   ]
  },
  {
   "cell_type": "markdown",
   "metadata": {
    "cell_id": "26b62379-3bbd-4395-b526-87bcd1a025ac",
    "deepnote_cell_type": "markdown",
    "tags": []
   },
   "source": [
    "### Preprocessing"
   ]
  },
  {
   "cell_type": "markdown",
   "metadata": {
    "cell_id": "91f4b407-2035-4460-adcc-b148ebd0b314",
    "deepnote_cell_type": "markdown",
    "tags": []
   },
   "source": [
    "#### Shuffling rows\n",
    "We need to shuffle the rows before fitting the model, because dataset is ordered by the target classes."
   ]
  },
  {
   "cell_type": "code",
   "execution_count": 10,
   "metadata": {
    "cell_id": "22fdd9e0-2a89-4e8c-896a-7b6aed49f0f3",
    "deepnote_cell_type": "code",
    "deepnote_to_be_reexecuted": false,
    "execution_millis": 117,
    "execution_start": 1644935490820,
    "source_hash": "52beef54",
    "tags": []
   },
   "outputs": [
    {
     "data": {
      "text/html": [
       "<div>\n",
       "<style scoped>\n",
       "    .dataframe tbody tr th:only-of-type {\n",
       "        vertical-align: middle;\n",
       "    }\n",
       "\n",
       "    .dataframe tbody tr th {\n",
       "        vertical-align: top;\n",
       "    }\n",
       "\n",
       "    .dataframe thead th {\n",
       "        text-align: right;\n",
       "    }\n",
       "</style>\n",
       "<table border=\"1\" class=\"dataframe\">\n",
       "  <thead>\n",
       "    <tr style=\"text-align: right;\">\n",
       "      <th></th>\n",
       "      <th>pelvic_incidence</th>\n",
       "      <th>pelvic_tilt</th>\n",
       "      <th>lumbar_lordosis_angle</th>\n",
       "      <th>sacral_slope</th>\n",
       "      <th>pelvic_radius</th>\n",
       "      <th>degree_spondylolisthesis</th>\n",
       "      <th>class</th>\n",
       "    </tr>\n",
       "  </thead>\n",
       "  <tbody>\n",
       "    <tr>\n",
       "      <th>75</th>\n",
       "      <td>70.221452</td>\n",
       "      <td>39.822724</td>\n",
       "      <td>68.118403</td>\n",
       "      <td>30.398728</td>\n",
       "      <td>148.525562</td>\n",
       "      <td>145.378143</td>\n",
       "      <td>b'Spondylolisthesis'</td>\n",
       "    </tr>\n",
       "    <tr>\n",
       "      <th>7</th>\n",
       "      <td>45.366754</td>\n",
       "      <td>10.755611</td>\n",
       "      <td>29.038349</td>\n",
       "      <td>34.611142</td>\n",
       "      <td>117.270067</td>\n",
       "      <td>-10.675871</td>\n",
       "      <td>b'Hernia'</td>\n",
       "    </tr>\n",
       "    <tr>\n",
       "      <th>250</th>\n",
       "      <td>36.157830</td>\n",
       "      <td>-0.810514</td>\n",
       "      <td>33.627314</td>\n",
       "      <td>36.968344</td>\n",
       "      <td>135.936910</td>\n",
       "      <td>-2.092507</td>\n",
       "      <td>b'Normal'</td>\n",
       "    </tr>\n",
       "    <tr>\n",
       "      <th>56</th>\n",
       "      <td>43.349606</td>\n",
       "      <td>7.467469</td>\n",
       "      <td>28.065483</td>\n",
       "      <td>35.882137</td>\n",
       "      <td>112.776187</td>\n",
       "      <td>5.753277</td>\n",
       "      <td>b'Hernia'</td>\n",
       "    </tr>\n",
       "    <tr>\n",
       "      <th>149</th>\n",
       "      <td>79.249671</td>\n",
       "      <td>23.944825</td>\n",
       "      <td>40.796698</td>\n",
       "      <td>55.304846</td>\n",
       "      <td>98.622512</td>\n",
       "      <td>36.706395</td>\n",
       "      <td>b'Spondylolisthesis'</td>\n",
       "    </tr>\n",
       "    <tr>\n",
       "      <th>...</th>\n",
       "      <td>...</td>\n",
       "      <td>...</td>\n",
       "      <td>...</td>\n",
       "      <td>...</td>\n",
       "      <td>...</td>\n",
       "      <td>...</td>\n",
       "      <td>...</td>\n",
       "    </tr>\n",
       "    <tr>\n",
       "      <th>66</th>\n",
       "      <td>78.491730</td>\n",
       "      <td>22.181798</td>\n",
       "      <td>60.000000</td>\n",
       "      <td>56.309932</td>\n",
       "      <td>118.530327</td>\n",
       "      <td>27.383213</td>\n",
       "      <td>b'Spondylolisthesis'</td>\n",
       "    </tr>\n",
       "    <tr>\n",
       "      <th>53</th>\n",
       "      <td>30.149936</td>\n",
       "      <td>11.917445</td>\n",
       "      <td>34.000000</td>\n",
       "      <td>18.232491</td>\n",
       "      <td>112.684141</td>\n",
       "      <td>11.463223</td>\n",
       "      <td>b'Hernia'</td>\n",
       "    </tr>\n",
       "    <tr>\n",
       "      <th>79</th>\n",
       "      <td>47.744679</td>\n",
       "      <td>12.089351</td>\n",
       "      <td>39.000000</td>\n",
       "      <td>35.655328</td>\n",
       "      <td>117.512004</td>\n",
       "      <td>21.682401</td>\n",
       "      <td>b'Spondylolisthesis'</td>\n",
       "    </tr>\n",
       "    <tr>\n",
       "      <th>280</th>\n",
       "      <td>50.086153</td>\n",
       "      <td>13.430044</td>\n",
       "      <td>34.457541</td>\n",
       "      <td>36.656108</td>\n",
       "      <td>119.134622</td>\n",
       "      <td>3.089484</td>\n",
       "      <td>b'Normal'</td>\n",
       "    </tr>\n",
       "    <tr>\n",
       "      <th>8</th>\n",
       "      <td>43.790190</td>\n",
       "      <td>13.533753</td>\n",
       "      <td>42.690814</td>\n",
       "      <td>30.256437</td>\n",
       "      <td>125.002893</td>\n",
       "      <td>13.289018</td>\n",
       "      <td>b'Hernia'</td>\n",
       "    </tr>\n",
       "  </tbody>\n",
       "</table>\n",
       "<p>310 rows × 7 columns</p>\n",
       "</div>"
      ],
      "text/plain": [
       "     pelvic_incidence  pelvic_tilt  lumbar_lordosis_angle  sacral_slope  \\\n",
       "75          70.221452    39.822724              68.118403     30.398728   \n",
       "7           45.366754    10.755611              29.038349     34.611142   \n",
       "250         36.157830    -0.810514              33.627314     36.968344   \n",
       "56          43.349606     7.467469              28.065483     35.882137   \n",
       "149         79.249671    23.944825              40.796698     55.304846   \n",
       "..                ...          ...                    ...           ...   \n",
       "66          78.491730    22.181798              60.000000     56.309932   \n",
       "53          30.149936    11.917445              34.000000     18.232491   \n",
       "79          47.744679    12.089351              39.000000     35.655328   \n",
       "280         50.086153    13.430044              34.457541     36.656108   \n",
       "8           43.790190    13.533753              42.690814     30.256437   \n",
       "\n",
       "     pelvic_radius  degree_spondylolisthesis                 class  \n",
       "75      148.525562                145.378143  b'Spondylolisthesis'  \n",
       "7       117.270067                -10.675871             b'Hernia'  \n",
       "250     135.936910                 -2.092507             b'Normal'  \n",
       "56      112.776187                  5.753277             b'Hernia'  \n",
       "149      98.622512                 36.706395  b'Spondylolisthesis'  \n",
       "..             ...                       ...                   ...  \n",
       "66      118.530327                 27.383213  b'Spondylolisthesis'  \n",
       "53      112.684141                 11.463223             b'Hernia'  \n",
       "79      117.512004                 21.682401  b'Spondylolisthesis'  \n",
       "280     119.134622                  3.089484             b'Normal'  \n",
       "8       125.002893                 13.289018             b'Hernia'  \n",
       "\n",
       "[310 rows x 7 columns]"
      ]
     },
     "execution_count": 10,
     "metadata": {},
     "output_type": "execute_result"
    }
   ],
   "source": [
    "# Sampling by size of 1, will return the whole dataset but with rows in random order.\n",
    "df = df.sample(frac=1, random_state=100)\n",
    "df"
   ]
  },
  {
   "cell_type": "markdown",
   "metadata": {
    "cell_id": "5c263fb1-c9b0-430d-bfad-2742cc5a5702",
    "deepnote_cell_type": "markdown",
    "tags": []
   },
   "source": [
    "#### Check for missing values"
   ]
  },
  {
   "cell_type": "code",
   "execution_count": 11,
   "metadata": {
    "cell_id": "e723e5d9-4bfd-45b2-9161-b55fac87e9d9",
    "deepnote_cell_type": "code",
    "deepnote_output_heights": [
     156
    ],
    "deepnote_to_be_reexecuted": false,
    "execution_millis": 20,
    "execution_start": 1644935490953,
    "source_hash": "d794f466",
    "tags": []
   },
   "outputs": [
    {
     "data": {
      "text/plain": [
       "pelvic_incidence            0\n",
       "pelvic_tilt                 0\n",
       "lumbar_lordosis_angle       0\n",
       "sacral_slope                0\n",
       "pelvic_radius               0\n",
       "degree_spondylolisthesis    0\n",
       "class                       0\n",
       "dtype: int64"
      ]
     },
     "execution_count": 11,
     "metadata": {},
     "output_type": "execute_result"
    }
   ],
   "source": [
    "df.isna().sum()"
   ]
  },
  {
   "cell_type": "markdown",
   "metadata": {
    "cell_id": "5deb2683-a66e-4519-aa84-7718232b2748",
    "deepnote_cell_type": "markdown",
    "tags": []
   },
   "source": [
    "Dataset doesn't have any missing values, so we don't need to fix them."
   ]
  },
  {
   "cell_type": "markdown",
   "metadata": {
    "cell_id": "d7e24d5e-83f6-4de1-968f-7e66eb746395",
    "deepnote_cell_type": "markdown",
    "tags": []
   },
   "source": [
    "#### Rename class cases to numeric values\n",
    "Normal -> 0  \n",
    "Hernia -> 1  \n",
    "Spondylolisthesis -> 2\n"
   ]
  },
  {
   "cell_type": "code",
   "execution_count": 12,
   "metadata": {
    "cell_id": "db878e14-225e-49ed-81d6-cf395136139e",
    "deepnote_cell_type": "code",
    "deepnote_to_be_reexecuted": false,
    "execution_millis": 357,
    "execution_start": 1644935490985,
    "source_hash": "8b78bcc6",
    "tags": []
   },
   "outputs": [
    {
     "data": {
      "text/html": [
       "<div>\n",
       "<style scoped>\n",
       "    .dataframe tbody tr th:only-of-type {\n",
       "        vertical-align: middle;\n",
       "    }\n",
       "\n",
       "    .dataframe tbody tr th {\n",
       "        vertical-align: top;\n",
       "    }\n",
       "\n",
       "    .dataframe thead th {\n",
       "        text-align: right;\n",
       "    }\n",
       "</style>\n",
       "<table border=\"1\" class=\"dataframe\">\n",
       "  <thead>\n",
       "    <tr style=\"text-align: right;\">\n",
       "      <th></th>\n",
       "      <th>pelvic_incidence</th>\n",
       "      <th>pelvic_tilt</th>\n",
       "      <th>lumbar_lordosis_angle</th>\n",
       "      <th>sacral_slope</th>\n",
       "      <th>pelvic_radius</th>\n",
       "      <th>degree_spondylolisthesis</th>\n",
       "      <th>class</th>\n",
       "    </tr>\n",
       "  </thead>\n",
       "  <tbody>\n",
       "    <tr>\n",
       "      <th>75</th>\n",
       "      <td>70.221452</td>\n",
       "      <td>39.822724</td>\n",
       "      <td>68.118403</td>\n",
       "      <td>30.398728</td>\n",
       "      <td>148.525562</td>\n",
       "      <td>145.378143</td>\n",
       "      <td>2</td>\n",
       "    </tr>\n",
       "    <tr>\n",
       "      <th>7</th>\n",
       "      <td>45.366754</td>\n",
       "      <td>10.755611</td>\n",
       "      <td>29.038349</td>\n",
       "      <td>34.611142</td>\n",
       "      <td>117.270067</td>\n",
       "      <td>-10.675871</td>\n",
       "      <td>1</td>\n",
       "    </tr>\n",
       "    <tr>\n",
       "      <th>250</th>\n",
       "      <td>36.157830</td>\n",
       "      <td>-0.810514</td>\n",
       "      <td>33.627314</td>\n",
       "      <td>36.968344</td>\n",
       "      <td>135.936910</td>\n",
       "      <td>-2.092507</td>\n",
       "      <td>0</td>\n",
       "    </tr>\n",
       "    <tr>\n",
       "      <th>56</th>\n",
       "      <td>43.349606</td>\n",
       "      <td>7.467469</td>\n",
       "      <td>28.065483</td>\n",
       "      <td>35.882137</td>\n",
       "      <td>112.776187</td>\n",
       "      <td>5.753277</td>\n",
       "      <td>1</td>\n",
       "    </tr>\n",
       "    <tr>\n",
       "      <th>149</th>\n",
       "      <td>79.249671</td>\n",
       "      <td>23.944825</td>\n",
       "      <td>40.796698</td>\n",
       "      <td>55.304846</td>\n",
       "      <td>98.622512</td>\n",
       "      <td>36.706395</td>\n",
       "      <td>2</td>\n",
       "    </tr>\n",
       "    <tr>\n",
       "      <th>...</th>\n",
       "      <td>...</td>\n",
       "      <td>...</td>\n",
       "      <td>...</td>\n",
       "      <td>...</td>\n",
       "      <td>...</td>\n",
       "      <td>...</td>\n",
       "      <td>...</td>\n",
       "    </tr>\n",
       "    <tr>\n",
       "      <th>66</th>\n",
       "      <td>78.491730</td>\n",
       "      <td>22.181798</td>\n",
       "      <td>60.000000</td>\n",
       "      <td>56.309932</td>\n",
       "      <td>118.530327</td>\n",
       "      <td>27.383213</td>\n",
       "      <td>2</td>\n",
       "    </tr>\n",
       "    <tr>\n",
       "      <th>53</th>\n",
       "      <td>30.149936</td>\n",
       "      <td>11.917445</td>\n",
       "      <td>34.000000</td>\n",
       "      <td>18.232491</td>\n",
       "      <td>112.684141</td>\n",
       "      <td>11.463223</td>\n",
       "      <td>1</td>\n",
       "    </tr>\n",
       "    <tr>\n",
       "      <th>79</th>\n",
       "      <td>47.744679</td>\n",
       "      <td>12.089351</td>\n",
       "      <td>39.000000</td>\n",
       "      <td>35.655328</td>\n",
       "      <td>117.512004</td>\n",
       "      <td>21.682401</td>\n",
       "      <td>2</td>\n",
       "    </tr>\n",
       "    <tr>\n",
       "      <th>280</th>\n",
       "      <td>50.086153</td>\n",
       "      <td>13.430044</td>\n",
       "      <td>34.457541</td>\n",
       "      <td>36.656108</td>\n",
       "      <td>119.134622</td>\n",
       "      <td>3.089484</td>\n",
       "      <td>0</td>\n",
       "    </tr>\n",
       "    <tr>\n",
       "      <th>8</th>\n",
       "      <td>43.790190</td>\n",
       "      <td>13.533753</td>\n",
       "      <td>42.690814</td>\n",
       "      <td>30.256437</td>\n",
       "      <td>125.002893</td>\n",
       "      <td>13.289018</td>\n",
       "      <td>1</td>\n",
       "    </tr>\n",
       "  </tbody>\n",
       "</table>\n",
       "<p>310 rows × 7 columns</p>\n",
       "</div>"
      ],
      "text/plain": [
       "     pelvic_incidence  pelvic_tilt  lumbar_lordosis_angle  sacral_slope  \\\n",
       "75          70.221452    39.822724              68.118403     30.398728   \n",
       "7           45.366754    10.755611              29.038349     34.611142   \n",
       "250         36.157830    -0.810514              33.627314     36.968344   \n",
       "56          43.349606     7.467469              28.065483     35.882137   \n",
       "149         79.249671    23.944825              40.796698     55.304846   \n",
       "..                ...          ...                    ...           ...   \n",
       "66          78.491730    22.181798              60.000000     56.309932   \n",
       "53          30.149936    11.917445              34.000000     18.232491   \n",
       "79          47.744679    12.089351              39.000000     35.655328   \n",
       "280         50.086153    13.430044              34.457541     36.656108   \n",
       "8           43.790190    13.533753              42.690814     30.256437   \n",
       "\n",
       "     pelvic_radius  degree_spondylolisthesis  class  \n",
       "75      148.525562                145.378143      2  \n",
       "7       117.270067                -10.675871      1  \n",
       "250     135.936910                 -2.092507      0  \n",
       "56      112.776187                  5.753277      1  \n",
       "149      98.622512                 36.706395      2  \n",
       "..             ...                       ...    ...  \n",
       "66      118.530327                 27.383213      2  \n",
       "53      112.684141                 11.463223      1  \n",
       "79      117.512004                 21.682401      2  \n",
       "280     119.134622                  3.089484      0  \n",
       "8       125.002893                 13.289018      1  \n",
       "\n",
       "[310 rows x 7 columns]"
      ]
     },
     "execution_count": 12,
     "metadata": {},
     "output_type": "execute_result"
    }
   ],
   "source": [
    "df[\"class\"] = df[\"class\"].astype(\"string\")\n",
    "\n",
    "class_names = [\"Normal\", \"Hernia\", \"Spondylolisthesis\"]\n",
    "df[\"class\"] = df[\"class\"].replace(\"b'Normal'\", \"0\")\n",
    "df[\"class\"] = df[\"class\"].replace(\"b'Hernia'\", \"1\")\n",
    "df[\"class\"] = df[\"class\"].replace(\"b'Spondylolisthesis'\", \"2\")\n",
    "\n",
    "df[\"class\"] = df[\"class\"].astype(\"int\")\n",
    "df"
   ]
  },
  {
   "cell_type": "markdown",
   "metadata": {
    "cell_id": "1722892b-c9ca-4a05-8502-1ba2e2f81c07",
    "deepnote_cell_type": "markdown",
    "tags": []
   },
   "source": [
    "#### Split dataset into train, validation and test subsets"
   ]
  },
  {
   "cell_type": "code",
   "execution_count": 13,
   "metadata": {
    "cell_id": "b6dd97a6-f32c-4cde-8806-aa54de1aea22",
    "deepnote_cell_type": "code",
    "deepnote_to_be_reexecuted": false,
    "execution_millis": 23,
    "execution_start": 1644935491351,
    "source_hash": "2228a465",
    "tags": []
   },
   "outputs": [
    {
     "name": "stdout",
     "output_type": "stream",
     "text": [
      "train: 186, validation: 62, test: 62\n"
     ]
    }
   ],
   "source": [
    "# Split the data into train (60%), validation (20%) and test datasets (20%)\n",
    "train_df, validation_df, test_df = np.split(df.sample(frac=1, random_state=42), [int(.6*len(df)), int(.8*len(df))])\n",
    "\n",
    "print(f\"train: {len(train_df.index)}, validation: {len(validation_df.index)}, test: {len(test_df.index)}\")"
   ]
  },
  {
   "cell_type": "markdown",
   "metadata": {
    "cell_id": "b48bac83-fd3f-462f-9fd9-2ec938009f79",
    "deepnote_cell_type": "markdown",
    "tags": []
   },
   "source": [
    "#### Separate features and labels"
   ]
  },
  {
   "cell_type": "code",
   "execution_count": 14,
   "metadata": {
    "cell_id": "512cd138-b801-4b80-9a2d-e52bb8571843",
    "deepnote_cell_type": "code",
    "deepnote_to_be_reexecuted": false,
    "execution_millis": 66,
    "execution_start": 1644935491384,
    "source_hash": "b4f25a4c",
    "tags": []
   },
   "outputs": [
    {
     "name": "stdout",
     "output_type": "stream",
     "text": [
      "Number of features: 6\n"
     ]
    }
   ],
   "source": [
    "# Separate features (X) and labels (Y)\n",
    "train_X = train_df.copy()\n",
    "validation_X = validation_df.copy()\n",
    "test_X = test_df.copy()\n",
    "\n",
    "train_Y = train_X.pop(\"class\")\n",
    "validation_Y = validation_X.pop(\"class\")\n",
    "test_Y = test_X.pop(\"class\")\n",
    "\n",
    "FEATURES = len(train_X.columns)\n",
    "print(\"Number of features:\", FEATURES)"
   ]
  },
  {
   "cell_type": "markdown",
   "metadata": {
    "cell_id": "48ae2949-5105-4cdd-b5e7-fc6bd83e37eb",
    "deepnote_cell_type": "markdown",
    "tags": []
   },
   "source": [
    "#### Prepare class weights for training"
   ]
  },
  {
   "cell_type": "code",
   "execution_count": 15,
   "metadata": {
    "cell_id": "94554ba3-0538-4529-8436-ec0e0e313ab8",
    "deepnote_cell_type": "code",
    "deepnote_output_heights": [
     21
    ],
    "deepnote_to_be_reexecuted": false,
    "execution_millis": 2,
    "execution_start": 1644935491449,
    "source_hash": "5d5dfeb0",
    "tags": []
   },
   "outputs": [
    {
     "data": {
      "text/plain": [
       "{0: 0.6774193548387097, 1: 0.8064516129032258, 2: 0.5161290322580645}"
      ]
     },
     "execution_count": 15,
     "metadata": {},
     "output_type": "execute_result"
    }
   ],
   "source": [
    "class_weights = {\n",
    "    0: 1 - normal_p,\n",
    "    1: 1 - hernia_p,\n",
    "    2: 1 - spondylolisthesis_p\n",
    "}\n",
    "class_weights"
   ]
  },
  {
   "cell_type": "markdown",
   "metadata": {
    "cell_id": "46905a61-8ba8-40be-b034-5305bae65492",
    "deepnote_cell_type": "markdown",
    "tags": []
   },
   "source": [
    "### Training the model"
   ]
  },
  {
   "cell_type": "code",
   "execution_count": 16,
   "metadata": {
    "cell_id": "930fd407-63df-41bc-9e41-ebfb5eeb8420",
    "deepnote_cell_type": "code",
    "deepnote_output_heights": [
     59.5625,
     21.1875
    ],
    "deepnote_to_be_reexecuted": false,
    "execution_millis": 1089,
    "execution_start": 1644935491450,
    "source_hash": "39a69d75",
    "tags": []
   },
   "outputs": [],
   "source": [
    "# Try different penalties to check, which will produce the best results.\n",
    "penalties = [0.0, 0.0001, 0.001, 0.01, 0.1, 1.0]\n",
    "models = {}\n",
    "\n",
    "for p in penalties:\n",
    "\n",
    "    # Dedine the model\n",
    "    if p == 0.0:\n",
    "        model = LogisticRegression(multi_class=\"multinomial\", class_weight=class_weights, max_iter=2000, penalty=\"none\")\n",
    "    else:\n",
    "        model = LogisticRegression(multi_class=\"multinomial\", class_weight=class_weights, max_iter=2000, penalty=\"l2\", C=p)\n",
    "\n",
    "    # Fit the model with the train data\n",
    "    model.fit(train_X, train_Y)\n",
    "\n",
    "    # Test model with validation data\n",
    "    predict_Y = model.predict(validation_X)\n",
    "    accuracy = metrics.accuracy_score(validation_Y, predict_Y)\n",
    "    models[p] = {\n",
    "        \"model\": model,\n",
    "        \"accuracy\": accuracy,\n",
    "        \"penalty\": p\n",
    "    }"
   ]
  },
  {
   "cell_type": "code",
   "execution_count": 17,
   "metadata": {
    "cell_id": "4a31f51d-498d-4eb6-a2e3-e3565893c4d3",
    "deepnote_cell_type": "code",
    "deepnote_to_be_reexecuted": false,
    "execution_millis": 75,
    "execution_start": 1644935492547,
    "source_hash": "47d339a",
    "tags": []
   },
   "outputs": [
    {
     "name": "stdout",
     "output_type": "stream",
     "text": [
      "penalty: 0.0, accuracy: 0.82258\n",
      "penalty: 0.0001, accuracy: 0.77419\n",
      "penalty: 0.001, accuracy: 0.87097\n",
      "penalty: 0.01, accuracy: 0.83871\n",
      "penalty: 0.1, accuracy: 0.82258\n",
      "penalty: 1.0, accuracy: 0.82258\n"
     ]
    }
   ],
   "source": [
    "for key, model in models.items():\n",
    "    print(f'penalty: {model[\"penalty\"]}, accuracy: {model[\"accuracy\"]:.5f}')"
   ]
  },
  {
   "cell_type": "markdown",
   "metadata": {
    "cell_id": "511840a0-3e30-49c1-9fc8-39ceb0dd2f20",
    "deepnote_cell_type": "markdown",
    "tags": []
   },
   "source": [
    "#### Observations\n",
    "I got best accuracy with 0.001 penalty, so I choosed themodel for the final evaluation."
   ]
  },
  {
   "cell_type": "markdown",
   "metadata": {
    "cell_id": "50e4c56c-8ec0-4435-b803-4e9c2ff150f7",
    "deepnote_cell_type": "markdown",
    "tags": []
   },
   "source": [
    "### Final evaluation"
   ]
  },
  {
   "cell_type": "code",
   "execution_count": 18,
   "metadata": {
    "cell_id": "98016c04-67d1-4e17-ae97-8b8cf00d2123",
    "deepnote_cell_type": "code",
    "deepnote_output_heights": [
     21.1875
    ],
    "deepnote_to_be_reexecuted": false,
    "execution_millis": 47,
    "execution_start": 1644935492580,
    "source_hash": "405d2221",
    "tags": []
   },
   "outputs": [
    {
     "data": {
      "text/plain": [
       "['model.model']"
      ]
     },
     "execution_count": 18,
     "metadata": {},
     "output_type": "execute_result"
    }
   ],
   "source": [
    "# Get the model\n",
    "model = models[0.001]\n",
    "\n",
    "# Save the model to persistent storage\n",
    "dump(model[\"model\"], \"model.model\")"
   ]
  },
  {
   "cell_type": "markdown",
   "metadata": {
    "cell_id": "345d7a56-46e1-43b9-b257-f86fc8557922",
    "deepnote_cell_type": "markdown",
    "tags": []
   },
   "source": [
    "#### Test model on test dataset"
   ]
  },
  {
   "cell_type": "code",
   "execution_count": 19,
   "metadata": {
    "cell_id": "c3439fb8-4935-40f7-8247-eaf6caf1271d",
    "deepnote_cell_type": "code",
    "deepnote_output_heights": [
     21
    ],
    "deepnote_to_be_reexecuted": false,
    "execution_millis": 31,
    "execution_start": 1644935492608,
    "source_hash": "e95964e7",
    "tags": []
   },
   "outputs": [
    {
     "data": {
      "text/plain": [
       "0.8709677419354839"
      ]
     },
     "execution_count": 19,
     "metadata": {},
     "output_type": "execute_result"
    }
   ],
   "source": [
    "# Test model with test data\n",
    "predict_Y = model[\"model\"].predict(test_X)\n",
    "accuracy = metrics.accuracy_score(test_Y, predict_Y)\n",
    "accuracy"
   ]
  },
  {
   "cell_type": "markdown",
   "metadata": {
    "cell_id": "fb822969-cb94-470d-a8af-44574ffac8b5",
    "deepnote_cell_type": "markdown",
    "tags": []
   },
   "source": [
    "#### Confusion matrix"
   ]
  },
  {
   "cell_type": "code",
   "execution_count": 20,
   "metadata": {
    "cell_id": "b2591b42-c0e9-4d96-bf46-81eccd1186c2",
    "deepnote_cell_type": "code",
    "deepnote_output_heights": [
     280
    ],
    "deepnote_to_be_reexecuted": false,
    "execution_millis": 501,
    "execution_start": 1644935492642,
    "source_hash": "83630f09",
    "tags": []
   },
   "outputs": [
    {
     "data": {
      "image/png": "[encoded data removed]",
      "text/plain": [
       "<Figure size 360x288 with 2 Axes>"
      ]
     },
     "metadata": {
      "needs_background": "light"
     },
     "output_type": "display_data"
    }
   ],
   "source": [
    "# Creating a confusion matrix - source: https://www.analyticsvidhya.com/blog/2021/06/confusion-matrix-for-multi-class-classification/\n",
    "cm = confusion_matrix(test_Y, predict_Y)\n",
    "\n",
    "# Creating a dataframe for a array-formatted Confusion matrix,so it will be easy for plotting.\n",
    "cm_df = pd.DataFrame(\n",
    "    cm,\n",
    "    index = class_names, \n",
    "    columns = class_names\n",
    ")\n",
    "\n",
    "# Plotting the confusion matrix\n",
    "plt.figure(figsize=(5,4))\n",
    "sns.heatmap(cm_df, annot=True)\n",
    "plt.title(\"Confusion Matrix\")\n",
    "plt.ylabel(\"Actual Values\")\n",
    "plt.xlabel(\"Predicted Values\")\n",
    "plt.show()"
   ]
  },
  {
   "cell_type": "markdown",
   "metadata": {
    "cell_id": "2ba2d9ac-09db-45db-9a3f-67d568e6ec21",
    "deepnote_cell_type": "markdown",
    "tags": []
   },
   "source": [
    "#### Precision & Recall"
   ]
  },
  {
   "cell_type": "code",
   "execution_count": 21,
   "metadata": {
    "cell_id": "c914ffd2-3b9d-43b7-9deb-7c5fe22435d7",
    "deepnote_cell_type": "code",
    "deepnote_to_be_reexecuted": false,
    "execution_millis": 32,
    "execution_start": 1644935493162,
    "source_hash": "1a4a4961",
    "tags": []
   },
   "outputs": [
    {
     "name": "stdout",
     "output_type": "stream",
     "text": [
      "Precision: 0.77, Recall: 0.91       - Normal\n",
      "Precision: 0.88, Recall: 0.58       - Hernia\n",
      "Precision: 0.96, Recall: 0.96       - Spondylolisthesis\n"
     ]
    }
   ],
   "source": [
    "for i in range(0, 3):\n",
    "    actual_cnt = cm[i, 0] + cm[i, 1] + cm[i, 2]\n",
    "    predicted_cnt = cm[0, i] + cm[1, i] + cm[2, i]\n",
    "\n",
    "    recall = cm[i, i] / actual_cnt\n",
    "    precision = cm[i, i] / predicted_cnt\n",
    "\n",
    "    print(f\"Precision: {precision:.2f}, Recall: {recall:.2f}       - {class_names[i]}\")"
   ]
  },
  {
   "cell_type": "markdown",
   "metadata": {
    "cell_id": "2dd3b6a9-ad27-462f-aac0-316d145283d4",
    "deepnote_cell_type": "markdown",
    "tags": []
   },
   "source": [
    "### Conclusion"
   ]
  },
  {
   "cell_type": "markdown",
   "metadata": {
    "cell_id": "47d8a30c-0822-40e7-a40f-c7a2ebb3226c",
    "deepnote_cell_type": "markdown",
    "tags": []
   },
   "source": [
    "We have achieved overall accuracy of 87% on the test dataset.\n",
    "\n",
    "For Hernia            class recall (sensitivity) is 58% and precision is 88%.  \n",
    "For Spondylolisthesis class recall (sensitivity) is 96% and precision is 96%."
   ]
  },
  {
   "cell_type": "markdown",
   "metadata": {
    "cell_id": "3d8b61f4-0281-4555-8928-73e2e557b2e1",
    "deepnote_cell_type": "markdown",
    "tags": []
   },
   "source": [
    "## Diagnostic tool for experts\n",
    "(Function imports libraries again and loads the classifier from the file, as it would be used in real enviroment without context of this notebook)"
   ]
  },
  {
   "cell_type": "code",
   "execution_count": 22,
   "metadata": {
    "cell_id": "7673d94f-2b07-48a5-983e-1257ec5420a6",
    "deepnote_cell_type": "code",
    "deepnote_to_be_reexecuted": false,
    "execution_millis": 13,
    "execution_start": 1644935493214,
    "source_hash": "147e09e6",
    "tags": []
   },
   "outputs": [],
   "source": [
    "import pandas as pd\n",
    "\n",
    "from joblib import load\n",
    "\n",
    "\n",
    "def predict_diagnose(pelvic_incidence, pelvic_tilt, lumbar_lordosis_angle, sacral_slope, pelvic_radius, degree_spondylolisthesis):\n",
    "\n",
    "    class_names = [\"Normal\", \"Hernia\", \"Spondylolisthesis\"]\n",
    "    column_names = [\"pelvic_incidence\", \"pelvic_tilt\", \"lumbar_lordosis_angle\", \"sacral_slope\", \"pelvic_radius\", \"degree_spondylolisthesis\"]\n",
    "\n",
    "    # Create dataframe from inputed variables\n",
    "    df_predict = pd.DataFrame(\n",
    "        [[pelvic_incidence, pelvic_tilt, lumbar_lordosis_angle, sacral_slope, pelvic_radius, degree_spondylolisthesis]],\n",
    "        index = [0], \n",
    "        columns = column_names\n",
    "    )\n",
    "\n",
    "    # Load the model.\n",
    "    model = load(\"model.model\")\n",
    "\n",
    "    # Predict and print the diagnose.\n",
    "    print(f\"Diagnose prediction is: {class_names[model.predict(df_predict)[0]]}\")"
   ]
  },
  {
   "cell_type": "markdown",
   "metadata": {
    "cell_id": "e95cccfa-3320-4325-ab56-cd59ab932b38",
    "deepnote_cell_type": "markdown",
    "tags": []
   },
   "source": [
    "### Examples on test samples"
   ]
  },
  {
   "cell_type": "code",
   "execution_count": 23,
   "metadata": {
    "cell_id": "fbc8537c-b53f-4839-a201-ced84d90b392",
    "deepnote_cell_type": "code",
    "deepnote_to_be_reexecuted": false,
    "execution_millis": 71,
    "execution_start": 1644935493236,
    "source_hash": "7a8f91b2",
    "tags": []
   },
   "outputs": [
    {
     "data": {
      "text/html": [
       "<div>\n",
       "<style scoped>\n",
       "    .dataframe tbody tr th:only-of-type {\n",
       "        vertical-align: middle;\n",
       "    }\n",
       "\n",
       "    .dataframe tbody tr th {\n",
       "        vertical-align: top;\n",
       "    }\n",
       "\n",
       "    .dataframe thead th {\n",
       "        text-align: right;\n",
       "    }\n",
       "</style>\n",
       "<table border=\"1\" class=\"dataframe\">\n",
       "  <thead>\n",
       "    <tr style=\"text-align: right;\">\n",
       "      <th></th>\n",
       "      <th>pelvic_incidence</th>\n",
       "      <th>pelvic_tilt</th>\n",
       "      <th>lumbar_lordosis_angle</th>\n",
       "      <th>sacral_slope</th>\n",
       "      <th>pelvic_radius</th>\n",
       "      <th>degree_spondylolisthesis</th>\n",
       "      <th>class</th>\n",
       "    </tr>\n",
       "  </thead>\n",
       "  <tbody>\n",
       "    <tr>\n",
       "      <th>187</th>\n",
       "      <td>60.419932</td>\n",
       "      <td>5.265665</td>\n",
       "      <td>59.814236</td>\n",
       "      <td>55.154267</td>\n",
       "      <td>109.033074</td>\n",
       "      <td>30.265785</td>\n",
       "      <td>2</td>\n",
       "    </tr>\n",
       "    <tr>\n",
       "      <th>0</th>\n",
       "      <td>63.027817</td>\n",
       "      <td>22.552586</td>\n",
       "      <td>39.609117</td>\n",
       "      <td>40.475232</td>\n",
       "      <td>98.672917</td>\n",
       "      <td>-0.254400</td>\n",
       "      <td>1</td>\n",
       "    </tr>\n",
       "    <tr>\n",
       "      <th>179</th>\n",
       "      <td>68.721910</td>\n",
       "      <td>49.431864</td>\n",
       "      <td>68.056012</td>\n",
       "      <td>19.290046</td>\n",
       "      <td>125.018517</td>\n",
       "      <td>54.691289</td>\n",
       "      <td>2</td>\n",
       "    </tr>\n",
       "  </tbody>\n",
       "</table>\n",
       "</div>"
      ],
      "text/plain": [
       "     pelvic_incidence  pelvic_tilt  lumbar_lordosis_angle  sacral_slope  \\\n",
       "187         60.419932     5.265665              59.814236     55.154267   \n",
       "0           63.027817    22.552586              39.609117     40.475232   \n",
       "179         68.721910    49.431864              68.056012     19.290046   \n",
       "\n",
       "     pelvic_radius  degree_spondylolisthesis  class  \n",
       "187     109.033074                 30.265785      2  \n",
       "0        98.672917                 -0.254400      1  \n",
       "179     125.018517                 54.691289      2  "
      ]
     },
     "execution_count": 23,
     "metadata": {},
     "output_type": "execute_result"
    }
   ],
   "source": [
    "# Get some \n",
    "t = test_df.sample(n = 3, random_state=3)\n",
    "t"
   ]
  },
  {
   "cell_type": "code",
   "execution_count": 24,
   "metadata": {
    "cell_id": "98cf5b96-603f-4578-a76a-1108fef8f773",
    "deepnote_cell_type": "code",
    "deepnote_to_be_reexecuted": false,
    "execution_millis": 527,
    "execution_start": 1644935636456,
    "source_hash": "9e6b571c",
    "tags": []
   },
   "outputs": [
    {
     "name": "stdout",
     "output_type": "stream",
     "text": [
      "Diagnose prediction is: Spondylolisthesis\n"
     ]
    }
   ],
   "source": [
    "predict_diagnose(60.419932, 5.265665422, 59.8142356, 55.15426658, 109.0330745, 30.26578534)"
   ]
  },
  {
   "cell_type": "code",
   "execution_count": 25,
   "metadata": {
    "cell_id": "67f46864-475a-4220-a0ad-ac732acfdbb0",
    "deepnote_cell_type": "code",
    "deepnote_to_be_reexecuted": false,
    "execution_millis": 214,
    "execution_start": 1644935670976,
    "source_hash": "5359dd8b",
    "tags": []
   },
   "outputs": [
    {
     "name": "stdout",
     "output_type": "stream",
     "text": [
      "Diagnose prediction is: Hernia\n"
     ]
    }
   ],
   "source": [
    "predict_diagnose( 63.0278175, 22.55258597, 39.60911701, 40.47523153, 98.67291675, -0.254399986)"
   ]
  },
  {
   "cell_type": "code",
   "execution_count": 26,
   "metadata": {
    "cell_id": "ce7f1afb-5745-4673-b81d-b54d776763f7",
    "deepnote_cell_type": "code",
    "deepnote_to_be_reexecuted": false,
    "execution_millis": 704,
    "execution_start": 1644935717972,
    "source_hash": "a6bb1eb4",
    "tags": []
   },
   "outputs": [
    {
     "name": "stdout",
     "output_type": "stream",
     "text": [
      "Diagnose prediction is: Spondylolisthesis\n"
     ]
    }
   ],
   "source": [
    "predict_diagnose( 68.72190982, 49.4318636, 68.0560124, 19.29004622, 125.0185168, 54.69128928)"
   ]
  },
  {
   "cell_type": "markdown",
   "metadata": {
    "created_in_deepnote_cell": true,
    "deepnote_cell_type": "markdown",
    "tags": []
   },
   "source": [
    "<a style='text-decoration:none;line-height:16px;display:flex;color:#5B5B62;padding:10px;justify-content:end;' href='https://deepnote.com?utm_source=created-in-deepnote-cell&projectId=6e48769b-4983-40ba-98af-41053aae8714' target=\"_blank\">\n",
    "<img alt='Created in deepnote.com' style='display:inline;max-height:16px;margin:0px;margin-right:7.5px;' src='data:image/svg+xml;base64,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' > </img>\n",
    "Created in <span style='font-weight:600;margin-left:4px;'>Deepnote</span></a>"
   ]
  }
 ],
 "metadata": {
  "deepnote": {
   "is_reactive": false
  },
  "deepnote_execution_queue": [],
  "deepnote_notebook_id": "a51c5fcd-256a-43fe-a138-87fcc136ed89",
  "kernelspec": {
   "display_name": "Python 3 (ipykernel)",
   "language": "python",
   "name": "python3"
  },
  "language_info": {
   "codemirror_mode": {
    "name": "ipython",
    "version": 3
   },
   "file_extension": ".py",
   "mimetype": "text/x-python",
   "name": "python",
   "nbconvert_exporter": "python",
   "pygments_lexer": "ipython3",
   "version": "3.9.7"
  }
 },
 "nbformat": 4,
 "nbformat_minor": 4
}
